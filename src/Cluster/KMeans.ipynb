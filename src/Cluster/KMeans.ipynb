{
 "cells": [
  {
   "cell_type": "code",
   "execution_count": 8,
   "metadata": {},
   "outputs": [],
   "source": [
    "# import required libraries\n",
    "import pandas as pd\n",
    "import numpy as np\n",
    "import matplotlib.pyplot as plt\n",
    "from sklearn.cluster import KMeans\n",
    "import random as rd\n",
    "from sklearn.preprocessing import StandardScaler\n",
    "\n",
    "filepath = '/Users/madysenblattel/Documents/GitHub/Adv-Controls-Project-Group1/data/RawData.csv'\n",
    "fileLabel = '/Users/madysenblattel/Documents/GitHub/Adv-Controls-Project-Group1/data/RawData_Label.csv'\n",
    "data=pd.read_csv(filepath)\n",
    "dataLabel = pd.read_csv(fileLabel, usecols =['label'])\n",
    "raw_data = np.array(data)\n",
    "rawDataLabel = np.array(dataLabel)\n"
   ]
  },
  {
   "cell_type": "code",
   "execution_count": 10,
   "metadata": {},
   "outputs": [
    {
     "name": "stdout",
     "output_type": "stream",
     "text": [
      "0.46574118214111243\n"
     ]
    }
   ],
   "source": [
    "scaler = StandardScaler()\n",
    "from sklearn.datasets import make_blobs\n",
    "scaled = scaler.fit_transform(data)\n",
    "\n",
    "import sys\n",
    "import numpy\n",
    "from sklearn.metrics import adjusted_rand_score\n",
    "\n",
    "#kmeans clustering\n",
    "kmeans = KMeans (n_clusters=13, random_state=0).fit(scaled)\n",
    "cluster_array = kmeans.labels_\n",
    "truelabels=dataLabel.values.flatten()\n",
    "\n",
    "rand = adjusted_rand_score(truelabels, cluster_array)\n",
    "print(rand)"
   ]
  },
  {
   "cell_type": "code",
   "execution_count": null,
   "metadata": {},
   "outputs": [],
   "source": []
  }
 ],
 "metadata": {
  "interpreter": {
   "hash": "40d3a090f54c6569ab1632332b64b2c03c39dcf918b08424e98f38b5ae0af88f"
  },
  "kernelspec": {
   "display_name": "Python 3.8.5 ('base')",
   "language": "python",
   "name": "python3"
  },
  "language_info": {
   "codemirror_mode": {
    "name": "ipython",
    "version": 3
   },
   "file_extension": ".py",
   "mimetype": "text/x-python",
   "name": "python",
   "nbconvert_exporter": "python",
   "pygments_lexer": "ipython3",
   "version": "3.8.5"
  },
  "orig_nbformat": 4
 },
 "nbformat": 4,
 "nbformat_minor": 2
}
